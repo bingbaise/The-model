{
 "cells": [
  {
   "cell_type": "code",
   "execution_count": null,
   "metadata": {},
   "outputs": [],
   "source": [
    "%reload_ext autoreload\n",
    "%autoreload 2\n",
    "import pandas as pd\n",
    "from sklearn import svm\n",
    "import numpy as np\n",
    "import shap\n",
    "import lightgbm as lgb"
   ]
  },
  {
   "cell_type": "code",
   "execution_count": null,
   "metadata": {},
   "outputs": [],
   "source": [
    "import sys\n",
    "sys.path.append('..')\n",
    "from util  import Transform, PredictWay, get_k_fold_data\n",
    "from sklearn.model_selection import GridSearchCV\n",
    "from sklearn.metrics import auc \n",
    "import matplotlib.pyplot as plt\n",
    "plt.rcParams['font.sans-serif'] = ['Microsoft YaHei']"
   ]
  },
  {
   "cell_type": "code",
   "execution_count": null,
   "metadata": {},
   "outputs": [],
   "source": [
    "import matplotlib\n",
    "matplotlib.matplotlib_fname()"
   ]
  },
  {
   "cell_type": "code",
   "execution_count": null,
   "metadata": {},
   "outputs": [],
   "source": [
    "shap.initjs()"
   ]
  },
  {
   "cell_type": "code",
   "execution_count": null,
   "metadata": {},
   "outputs": [],
   "source": [
    "MATRIX = []\n",
    "def str2Nan(x):\n",
    "    try:\n",
    "        return float(x)\n",
    "    except:\n",
    "        return np.nan\n",
    "seed=0\n",
    "patient = pd.read_excel('../../8.7.xls')\n",
    "transform = Transform(seed_num=seed)\n",
    "patient = transform.confuse(patient) \n",
    "# X, Y = transform.drop(patient,startXIndex=0,YIndex=2,dropColunm=['肿瘤1，结核4，慢性炎症2，急性炎症3，漏出液0'])    \n",
    "# X, Y = transform.drop(patient,startXIndex=0,YIndex=3,dropColunm=['恶性1，良性0'])    \n",
    "X, Y = transform.drop(patient,startXIndex=0,YIndex=-1,dropColunm=['Y'])    \n",
    "for name in X.columns:\n",
    "    X[name] = X[name].apply(str2Nan)\n",
    "    X[name] = X[name].fillna(0)"
   ]
  },
  {
   "cell_type": "code",
   "execution_count": null,
   "metadata": {},
   "outputs": [],
   "source": [
    "k = 5\n",
    "X_pre = X[:-200].copy()\n",
    "# X = transform.normalization(X)\n",
    "result_svm, result_gbdt,result_tree,result_randomtree,result_lg,result_knn,result_lgb = [],[], [], [],[],[],[]\n",
    "false_index = []\n",
    "test_x, test_y = X[-200:],Y[-200:]\n",
    "X, Y = X[:-200],Y[:-200]"
   ]
  },
  {
   "cell_type": "code",
   "execution_count": null,
   "metadata": {},
   "outputs": [],
   "source": [
    "ModelDict = {\n",
    "#     'SVM':svm.SVC(random_state=seed, probability=True),\n",
    "#     'DT':DecisionTreeClassifier(max_depth=10,\n",
    "#                                           random_state=seed),\n",
    "#     'GBDT':GradientBoostingClassifier(random_state=seed),\n",
    "#     'RF':RandomForestClassifier(random_state=seed,\n",
    "#                                           min_samples_leaf=10),\n",
    "#     'KNN':KNeighborsClassifier(),\n",
    "#     'LR':LogisticRegression(random_state=400,max_iter=100),\n",
    "    'LightGBM': lgb.LGBMClassifier(num_leaves=100,learning_rate=0.5,random_state=42,verbosity=-1)}\n",
    "\n",
    "for i in range(k):\n",
    "    if i!=4:\n",
    "        continue\n",
    "    print('第{:d}代'.format(i+1))\n",
    "    X_train, y_train, x_valid, y_valid,Y_index = get_k_fold_data(k,i,X,Y,transform.confuse_index)\n",
    "    pre = PredictWay(X_train, y_train, x_valid, y_valid,seed,Y_index)\n",
    "    for model_name, model in ModelDict.items():\n",
    "        matric = pre.model_train(model_name, model)\n",
    "        if model_name=='LightGBM':\n",
    "            lgb_model = pre.model_fit\n",
    "    explainer = shap.TreeExplainer(lgb_model)\n",
    "    shap_values = explainer.shap_values(pre.trainx)\n",
    "pre.show_roc()"
   ]
  },
  {
   "cell_type": "code",
   "execution_count": null,
   "metadata": {},
   "outputs": [],
   "source": [
    "shap.summary_plot(shap_values,X_train,show=False)\n",
    "# plt.savefig('shap_summary_svm.png')"
   ]
  },
  {
   "cell_type": "code",
   "execution_count": null,
   "metadata": {},
   "outputs": [],
   "source": [
    "shap_values.shape"
   ]
  },
  {
   "cell_type": "code",
   "execution_count": null,
   "metadata": {},
   "outputs": [],
   "source": [
    "test_shap_values = explainer.shap_values(test_x)"
   ]
  },
  {
   "cell_type": "code",
   "execution_count": null,
   "metadata": {},
   "outputs": [],
   "source": [
    "X_train.iloc[133]"
   ]
  },
  {
   "cell_type": "code",
   "execution_count": null,
   "metadata": {},
   "outputs": [],
   "source": [
    "shap.summary_plot(shap_values, X_train,show=False)\n",
    "plt.savefig('shap_summary_scatter0.png')"
   ]
  },
  {
   "cell_type": "code",
   "execution_count": null,
   "metadata": {},
   "outputs": [],
   "source": [
    "shap.plots.force(explainer.expected_value,shap_values)\n",
    "# plt.savefig('D:/RR.jpg')"
   ]
  },
  {
   "cell_type": "code",
   "execution_count": null,
   "metadata": {},
   "outputs": [],
   "source": [
    "shap_values_bar = explainer(X_train)\n",
    "shap.plots.bar(shap_values_bar[2], max_display=22)"
   ]
  },
  {
   "cell_type": "code",
   "execution_count": null,
   "metadata": {},
   "outputs": [],
   "source": [
    "shap.summary_plot(shap_values, X_train, \n",
    "            plot_type=\"bar\",show=False)\n",
    "plt.savefig('shap_summary_plt.png')"
   ]
  },
  {
   "cell_type": "code",
   "execution_count": null,
   "metadata": {},
   "outputs": [],
   "source": [
    "\n",
    "plt.figure(figsize=(15, 5))\n",
    "plt.bar(range(len(X_train.keys())), pre.lgb_model.feature_importances_)\n",
    "plt.xticks(range(len(X_train.keys())), X_train.keys(), rotation=-45, fontsize=14)\n",
    "plt.title('Feature importance', fontsize=14)\n",
    "plt.show()"
   ]
  },
  {
   "cell_type": "code",
   "execution_count": null,
   "metadata": {},
   "outputs": [],
   "source": [
    "shap.dependence_plot(('Age','Age'),explainer.shap_interaction_values(X),X_pre,show=False,xmax = 100)\n",
    "plt.grid(ls=\":\",c='gray')\n",
    "plt.axhline(0,ls = '-.', c='r')\n",
    "plt.xlabel('Age(year)')\n",
    "plt.savefig('shap_dependence_Age.png')\n",
    "\n",
    "\n",
    "shap.dependence_plot(('Eosinophil','Eosinophil'),explainer.shap_interaction_values(X),X_pre,show=False,xmax = 100)\n",
    "plt.grid(ls=\":\",c='gray')\n",
    "plt.axhline(0,ls = '-.', c='r')\n",
    "plt.xlabel('Eosinophil (%)')\n",
    "plt.savefig('shap_dependence_Eosinophil.png')\n",
    "\n",
    "shap.dependence_plot(('TB Ab','TB Ab'),explainer.shap_interaction_values(X),X_pre,show=False,xmax = 2)\n",
    "plt.grid(ls=\":\",c='gray')\n",
    "plt.axhline(0,ls = '-.', c='r')\n",
    "plt.xlabel('TB Ab')\n",
    "plt.savefig('shap_dependence_TB Ab.png')\n",
    "\n",
    "shap.dependence_plot(('ADA','ADA'),explainer.shap_interaction_values(X),X_pre,show=False,xmax = 220)\n",
    "plt.grid(ls=\":\",c='gray')\n",
    "plt.axhline(0,ls = '-.', c='r')\n",
    "plt.xlabel('ADA (U/L)')\n",
    "plt.savefig('shap_dependence_ADA.png')\n",
    "\n",
    "shap.dependence_plot(['Glucose','Glucose'],explainer.shap_interaction_values(X),X_pre,show=False,xmax=150)\n",
    "plt.grid(ls=\":\",c='gray')\n",
    "plt.axhline(0,ls = '-.', c='r')\n",
    "plt.xlabel('Glucose (mmol/L)')\n",
    "plt.savefig('shap_dependence_Glucose.png')\n",
    "\n",
    "shap.dependence_plot(('Chloride','Chloride'),explainer.shap_interaction_values(X),X_pre,show=False,xmax=150)\n",
    "plt.grid(ls=\":\",c='gray')\n",
    "plt.axhline(0,ls = '-.', c='r')\n",
    "plt.xlabel('Chloride(mmol/L)')\n",
    "plt.savefig('shap_dependence_Chloride.png')\n",
    "\n",
    "shap.dependence_plot(('LDH','LDH'),explainer.shap_interaction_values(X),X_pre,show=False,xmax=16000)\n",
    "plt.grid(ls=\":\",c='gray')\n",
    "plt.axhline(0,ls = '-.', c='r')\n",
    "plt.xlabel('LDH(U/L)')\n",
    "plt.savefig('shap_dependence_LDH.png')\n",
    "\n",
    "shap.dependence_plot(('Protein','Protein'),explainer.shap_interaction_values(X),X_pre,show=False,xmax=80)\n",
    "plt.grid(ls=\":\",c='gray')\n",
    "plt.axhline(0,ls = '-.', c='r')\n",
    "plt.xlabel('Protein(mg/dL)')\n",
    "plt.savefig('shap_dependence_Protein.png')\n",
    "\n",
    "shap.dependence_plot(['CA153','CA153'],explainer.shap_interaction_values(X),X_pre,show=False)\n",
    "plt.grid(ls=\":\",c='gray')\n",
    "plt.axhline(0,ls = '-.', c='r')\n",
    "plt.xlabel('CA153 (U/mL)')\n",
    "plt.savefig('shap_dependence_CA153.png')\n",
    "\n",
    "shap.dependence_plot(['CK19','CK19'],explainer.shap_interaction_values(X),X_pre,show=False,xmax=100)\n",
    "plt.grid(ls=\":\",c='gray')\n",
    "plt.axhline(0,ls = '-.', c='r')\n",
    "plt.xlabel('CK19 (ng/mL)')\n",
    "plt.savefig('shap_dependence_CK19.png')\n",
    "\n",
    "shap.dependence_plot(('SCC','SCC'),explainer.shap_interaction_values(X),X_pre,show=False)\n",
    "plt.grid(ls=\":\",c='gray')\n",
    "plt.axhline(0,ls = '-.', c='r')\n",
    "plt.xlabel('SCC(ng/mL)')\n",
    "plt.savefig('shap_dependence_SCC.png')\n",
    "\n",
    "\n",
    "\n"
   ]
  },
  {
   "cell_type": "code",
   "execution_count": null,
   "metadata": {},
   "outputs": [],
   "source": [
    "shap.dependence_plot(\n",
    "    (\"Age\", \"Age\"),\n",
    "    explainer.shap_interaction_values(X[:500]),\n",
    "    X_pre[:500], show=False,dot_size=1)\n",
    "plt.grid(ls=\":\",c='gray')\n",
    "plt.axhline(0,ls = '-.', c='r')"
   ]
  },
  {
   "cell_type": "code",
   "execution_count": null,
   "metadata": {},
   "outputs": [],
   "source": []
  },
  {
   "cell_type": "code",
   "execution_count": null,
   "metadata": {},
   "outputs": [],
   "source": []
  }
 ],
 "metadata": {
  "kernelspec": {
   "display_name": "base",
   "language": "python",
   "name": "python3"
  },
  "language_info": {
   "codemirror_mode": {
    "name": "ipython",
    "version": 3
   },
   "file_extension": ".py",
   "mimetype": "text/x-python",
   "name": "python",
   "nbconvert_exporter": "python",
   "pygments_lexer": "ipython3",
   "version": "3.9.19"
  }
 },
 "nbformat": 4,
 "nbformat_minor": 4
}
